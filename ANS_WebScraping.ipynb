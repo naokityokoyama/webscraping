{
  "nbformat": 4,
  "nbformat_minor": 0,
  "metadata": {
    "colab": {
      "name": "ANS_WebScraping.ipynb",
      "provenance": [],
      "toc_visible": true,
      "authorship_tag": "ABX9TyPB2xig0ZCkDAdIGO2gdf+Q",
      "include_colab_link": true
    },
    "kernelspec": {
      "name": "python3",
      "display_name": "Python 3"
    }
  },
  "cells": [
    {
      "cell_type": "markdown",
      "metadata": {
        "id": "view-in-github",
        "colab_type": "text"
      },
      "source": [
        "<a href=\"https://colab.research.google.com/github/naokityokoyama/webscraping/blob/main/ANS_WebScraping.ipynb\" target=\"_parent\"><img src=\"https://colab.research.google.com/assets/colab-badge.svg\" alt=\"Open In Colab\"/></a>"
      ]
    },
    {
      "cell_type": "code",
      "metadata": {
        "id": "nm4iDuOhNqHg"
      },
      "source": [
        "#Webscrapin ASN\n",
        "\n",
        "link = 'https://www.peeringdb.com/net/2786'\n",
        "\n",
        "import requests\n",
        "from bs4 import BeautifulSoup\n",
        "\n",
        "html = requests.get('https://www.peeringdb.com/')\n",
        "soup = BeautifulSoup(html.text, 'html.parser')\n"
      ],
      "execution_count": null,
      "outputs": []
    },
    {
      "cell_type": "code",
      "metadata": {
        "id": "qXWoxQfGXaYk"
      },
      "source": [
        "lista_asn = ['26599', '26615', '28573' , '28573', '7738' ]\n",
        "\n",
        "nomes = soup.find_all('div', class_='view_value col-xs-8 col-sm-7 col-md-8')\n",
        "asn = soup.find_all('div', {'data-edit-name':'asn'})\n",
        "proporcao = soup.find_all('div', {'data-edit-name':'info_ratio'})\n",
        "nivel = soup.find_all('div', {'data-edit-name':'info_traffic'})\n",
        "site = soup.find('div', {'data-edit-name':'website'})\n"
      ],
      "execution_count": null,
      "outputs": []
    },
    {
      "cell_type": "code",
      "metadata": {
        "id": "Dm2AWGUddfKu",
        "colab": {
          "base_uri": "https://localhost:8080/",
          "height": 129
        },
        "outputId": "9a7950ea-4c30-4b4f-a0da-3a86a92430cd"
      },
      "source": [
        "lista=[]\n",
        "for i in lista_asn:\n",
        "  html = requests.get(f'https://www.peeringdb.com/net/{i}')\n",
        "  soup = BeautifulSoup(html.text, 'html.parser')\n",
        "  \n",
        "  nomes = soup.find_all('div', class_='view_value col-xs-8 col-sm-7 col-md-8')\n",
        "  for nome in nomes:\n",
        "  dic = {}\n",
        "  dic['Nome'] = nome.get_text()\n",
        "\n",
        "  lista.append(dic)"
      ],
      "execution_count": null,
      "outputs": [
        {
          "output_type": "error",
          "ename": "IndentationError",
          "evalue": "ignored",
          "traceback": [
            "\u001b[0;36m  File \u001b[0;32m\"<ipython-input-45-48d1a1844af4>\"\u001b[0;36m, line \u001b[0;32m8\u001b[0m\n\u001b[0;31m    dic = {}\u001b[0m\n\u001b[0m      ^\u001b[0m\n\u001b[0;31mIndentationError\u001b[0m\u001b[0;31m:\u001b[0m expected an indented block\n"
          ]
        }
      ]
    },
    {
      "cell_type": "code",
      "metadata": {
        "id": "bBUao2rEfKxU",
        "colab": {
          "base_uri": "https://localhost:8080/",
          "height": 102
        },
        "outputId": "04b55930-8da0-412f-c11c-18ff084e9ca9"
      },
      "source": [
        "lista_asn = ['26599', '26615', '28573' , '28573', '7738' ]\n",
        "for i in lista_asn:\n",
        "  html = requests.get(f'https://www.peeringdb.com/net/{i}')\n",
        "  print (html)"
      ],
      "execution_count": null,
      "outputs": [
        {
          "output_type": "stream",
          "text": [
            "<Response [404]>\n",
            "<Response [404]>\n",
            "<Response [404]>\n",
            "<Response [404]>\n",
            "<Response [404]>\n"
          ],
          "name": "stdout"
        }
      ]
    },
    {
      "cell_type": "markdown",
      "metadata": {
        "id": "LdDi5pJkrwlz"
      },
      "source": [
        "# IPINFO"
      ]
    },
    {
      "cell_type": "code",
      "metadata": {
        "id": "3nllFEh8r1TM"
      },
      "source": [
        "link = 'https://ipinfo.io/AS26599#whois'\n",
        "\n",
        "import requests\n",
        "from bs4 import BeautifulSoup\n",
        "\n",
        "html = requests.get('https://ipinfo.io/AS26599#whois')\n",
        "soup = BeautifulSoup(html.text, 'html.parser')"
      ],
      "execution_count": null,
      "outputs": []
    },
    {
      "cell_type": "code",
      "metadata": {
        "id": "Hvv8dmXFsByM"
      },
      "source": [
        "lista_asn = ['26599', '26615', '28573' , '28573', '7738' ]\n",
        "\n",
        "for i in lista_asn:\n",
        "  html = requests.get(f'https://ipinfo.io/AS{i}#whois')\n",
        "  print (f'https://ipinfo.io/AS{i}#whois')\n",
        "  \n"
      ],
      "execution_count": null,
      "outputs": []
    },
    {
      "cell_type": "code",
      "metadata": {
        "id": "nQ-P_91Fsk6B",
        "colab": {
          "base_uri": "https://localhost:8080/",
          "height": 34
        },
        "outputId": "2b377e1f-0677-4796-8df0-ee79f7f46f40"
      },
      "source": [
        "nomes = soup.find_all('h3', class_='mb-0')\n",
        "site= soup.find('div', class_='card-body').p #p.a.get_text()\n",
        "\n",
        "lista_asn = ['26599', '26615', '28573' , '28573', '7738' ]\n",
        "\n",
        "site.find('a')"
      ],
      "execution_count": null,
      "outputs": [
        {
          "output_type": "execute_result",
          "data": {
            "text/plain": [
              "<a href=\"https://host.io/telefonica.com.br\">telefonica.com.br</a>"
            ]
          },
          "metadata": {
            "tags": []
          },
          "execution_count": 93
        }
      ]
    },
    {
      "cell_type": "code",
      "metadata": {
        "id": "9ol0HgPRvytC"
      },
      "source": [
        "lista_final=[]\n",
        "for i in lista_asn:\n",
        "  html = requests.get(f'https://ipinfo.io/AS{i}#whois')\n",
        "  soup = BeautifulSoup(html.text, 'html.parser')\n",
        "\n",
        "  nomes = soup.find_all('h3', class_='mb-0')\n",
        "  sites= soup.find_all('div', class_='card-body') #p.a.get_text\n",
        "\n",
        "  for nome, site in zip(nomes,sites):\n",
        "    dic = {}\n",
        "    dic['Nomes'] = nome.get_text()\n",
        "    dic['Sites'] = site.find('a').get_text()\n",
        "\n",
        "    lista_final.append(dic)"
      ],
      "execution_count": null,
      "outputs": []
    },
    {
      "cell_type": "code",
      "metadata": {
        "id": "lgGn_rAgwdDH",
        "colab": {
          "base_uri": "https://localhost:8080/",
          "height": 204
        },
        "outputId": "3d321445-92d9-4b83-b20d-386b30129217"
      },
      "source": [
        "import pandas as pd\n",
        "df = pd.DataFrame(lista_final)\n",
        "\n",
        "df"
      ],
      "execution_count": null,
      "outputs": [
        {
          "output_type": "execute_result",
          "data": {
            "text/html": [
              "<div>\n",
              "<style scoped>\n",
              "    .dataframe tbody tr th:only-of-type {\n",
              "        vertical-align: middle;\n",
              "    }\n",
              "\n",
              "    .dataframe tbody tr th {\n",
              "        vertical-align: top;\n",
              "    }\n",
              "\n",
              "    .dataframe thead th {\n",
              "        text-align: right;\n",
              "    }\n",
              "</style>\n",
              "<table border=\"1\" class=\"dataframe\">\n",
              "  <thead>\n",
              "    <tr style=\"text-align: right;\">\n",
              "      <th></th>\n",
              "      <th>Nomes</th>\n",
              "      <th>Sites</th>\n",
              "    </tr>\n",
              "  </thead>\n",
              "  <tbody>\n",
              "    <tr>\n",
              "      <th>0</th>\n",
              "      <td>AS26599 TELEFÔNICA BRASIL S.A</td>\n",
              "      <td>telefonica.com.br</td>\n",
              "    </tr>\n",
              "    <tr>\n",
              "      <th>1</th>\n",
              "      <td>AS26615 TIM S/A</td>\n",
              "      <td>tim.com.br</td>\n",
              "    </tr>\n",
              "    <tr>\n",
              "      <th>2</th>\n",
              "      <td>AS28573 CLARO S.A.</td>\n",
              "      <td>claro.com.br</td>\n",
              "    </tr>\n",
              "    <tr>\n",
              "      <th>3</th>\n",
              "      <td>AS28573 CLARO S.A.</td>\n",
              "      <td>claro.com.br</td>\n",
              "    </tr>\n",
              "    <tr>\n",
              "      <th>4</th>\n",
              "      <td>AS7738 Telemar Norte Leste S.A.</td>\n",
              "      <td>oi.net.br</td>\n",
              "    </tr>\n",
              "  </tbody>\n",
              "</table>\n",
              "</div>"
            ],
            "text/plain": [
              "                             Nomes              Sites\n",
              "0    AS26599 TELEFÔNICA BRASIL S.A  telefonica.com.br\n",
              "1                  AS26615 TIM S/A         tim.com.br\n",
              "2               AS28573 CLARO S.A.       claro.com.br\n",
              "3               AS28573 CLARO S.A.       claro.com.br\n",
              "4  AS7738 Telemar Norte Leste S.A.          oi.net.br"
            ]
          },
          "metadata": {
            "tags": []
          },
          "execution_count": 100
        }
      ]
    }
  ]
}