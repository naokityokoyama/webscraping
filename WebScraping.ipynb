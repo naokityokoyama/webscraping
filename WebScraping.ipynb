{
  "nbformat": 4,
  "nbformat_minor": 0,
  "metadata": {
    "colab": {
      "name": "WebScraping.ipynb",
      "provenance": [],
      "toc_visible": true,
      "authorship_tag": "ABX9TyO2reI8yS9yYGn2sWK28jj2",
      "include_colab_link": true
    },
    "kernelspec": {
      "name": "python3",
      "display_name": "Python 3"
    }
  },
  "cells": [
    {
      "cell_type": "markdown",
      "metadata": {
        "id": "view-in-github",
        "colab_type": "text"
      },
      "source": [
        "<a href=\"https://colab.research.google.com/github/naokityokoyama/webscraping/blob/main/WebScraping.ipynb\" target=\"_parent\"><img src=\"https://colab.research.google.com/assets/colab-badge.svg\" alt=\"Open In Colab\"/></a>"
      ]
    },
    {
      "cell_type": "markdown",
      "metadata": {
        "id": "8vIintIzwN97"
      },
      "source": [
        "# Criando WebScraping com BeautifulSoap do site "
      ]
    },
    {
      "cell_type": "code",
      "metadata": {
        "id": "ywxREiYlwHXJ"
      },
      "source": [
        "from bs4 import BeautifulSoup\n",
        "import requests\n",
        "html_doc = requests.get('https://alura-site-scraping.herokuapp.com/index.php')\n",
        "soup = BeautifulSoup(html_doc.text, 'html.parser')\n",
        "print(soup.prettify())"
      ],
      "execution_count": null,
      "outputs": []
    },
    {
      "cell_type": "code",
      "metadata": {
        "id": "1_d-BxjO4CyY"
      },
      "source": [
        "cards = []\n",
        "card={}"
      ],
      "execution_count": null,
      "outputs": []
    },
    {
      "cell_type": "code",
      "metadata": {
        "id": "pXqFstLFxfFN",
        "colab": {
          "base_uri": "https://localhost:8080/",
          "height": 35
        },
        "outputId": "020df13e-58ea-4922-853e-30ad47f8b00d"
      },
      "source": [
        "carro = soup.find('div', class_='well')\n",
        "carro.find('p',class_='txt-value').get_text() #valor\n"
      ],
      "execution_count": null,
      "outputs": [
        {
          "output_type": "execute_result",
          "data": {
            "application/vnd.google.colaboratory.intrinsic+json": {
              "type": "string"
            },
            "text/plain": [
              "'R$ 338.000'"
            ]
          },
          "metadata": {
            "tags": []
          },
          "execution_count": 3
        }
      ]
    },
    {
      "cell_type": "code",
      "metadata": {
        "id": "YRWfs9HA4Gzc",
        "colab": {
          "base_uri": "https://localhost:8080/",
          "height": 34
        },
        "outputId": "b7abeb56-f298-491e-fc9c-aa3bb8065a1c"
      },
      "source": [
        "card['Valor'] = carro.find('p',class_='txt-value').get_text()\n",
        "card\n"
      ],
      "execution_count": null,
      "outputs": [
        {
          "output_type": "execute_result",
          "data": {
            "text/plain": [
              "{'Valor': 'R$ 338.000'}"
            ]
          },
          "metadata": {
            "tags": []
          },
          "execution_count": 4
        }
      ]
    },
    {
      "cell_type": "code",
      "metadata": {
        "id": "VRpoNRO15W7W",
        "colab": {
          "base_uri": "https://localhost:8080/",
          "height": 255
        },
        "outputId": "d31f83cf-bb81-4650-feb4-3018befd5d31"
      },
      "source": [
        "carro.find('div', class_='body-card') #pegando geral (repare que usamos apenas o find)"
      ],
      "execution_count": null,
      "outputs": [
        {
          "output_type": "execute_result",
          "data": {
            "text/plain": [
              "<div class=\"col-md-6 body-card\">\n",
              "<p class=\"txt-name inline\">LAMBORGHINI AVENTADOR</p>\n",
              "<p class=\"txt-category badge badge-secondary inline\">USADO</p>\n",
              "<p class=\"txt-motor\">Motor 1.8 16v</p>\n",
              "<p class=\"txt-description\">Ano 1993 - 55.286 km</p>\n",
              "<ul class=\"lst-items\">\n",
              "<li class=\"txt-items\">► 4 X 4</li>\n",
              "<li class=\"txt-items\">► Câmera de estacionamento</li>\n",
              "<li class=\"txt-items\">► Controle de tração</li>\n",
              "<li class=\"txt-items\">► Sensor de estacionamento</li>\n",
              "<li class=\"txt-items\">...</li>\n",
              "</ul>\n",
              "<p class=\"txt-location\">Belo Horizonte - MG</p>\n",
              "</div>"
            ]
          },
          "metadata": {
            "tags": []
          },
          "execution_count": 5
        }
      ]
    },
    {
      "cell_type": "code",
      "metadata": {
        "id": "p5ftkKKb5y8A",
        "colab": {
          "base_uri": "https://localhost:8080/",
          "height": 102
        },
        "outputId": "d4f9ac3c-ab8a-49e7-9663-9751077caa3d"
      },
      "source": [
        "carro.find('div', class_='body-card').find_all('p') #agora foi usado findall pois tem varios P"
      ],
      "execution_count": null,
      "outputs": [
        {
          "output_type": "execute_result",
          "data": {
            "text/plain": [
              "[<p class=\"txt-name inline\">LAMBORGHINI AVENTADOR</p>,\n",
              " <p class=\"txt-category badge badge-secondary inline\">USADO</p>,\n",
              " <p class=\"txt-motor\">Motor 1.8 16v</p>,\n",
              " <p class=\"txt-description\">Ano 1993 - 55.286 km</p>,\n",
              " <p class=\"txt-location\">Belo Horizonte - MG</p>]"
            ]
          },
          "metadata": {
            "tags": []
          },
          "execution_count": 6
        }
      ]
    },
    {
      "cell_type": "code",
      "metadata": {
        "id": "aAlAD20a6C9F"
      },
      "source": [
        "ficha = carro.find('div', class_='body-card')\n",
        "nome = ficha.find('p', class_='txt-name').get_text()\n",
        "categoria = ficha.find('p', class_='txt-category').get_text()\n",
        "motor = ficha.find('p', class_='txt-motor').get_text()\n",
        "descricao = ficha.find('p', class_='txt-description').get_text()\n",
        "localidade = ficha.find('p', class_='txt-location').get_text()\n"
      ],
      "execution_count": null,
      "outputs": []
    },
    {
      "cell_type": "code",
      "metadata": {
        "id": "qwxDe2jI6b9c",
        "colab": {
          "base_uri": "https://localhost:8080/",
          "height": 119
        },
        "outputId": "536802cf-a639-4709-9f21-3f521c4491eb"
      },
      "source": [
        "card['Valor'] = carro.find('p',class_='txt-value').get_text()\n",
        "card['Nome'] = nome\n",
        "card['Categoria'] = categoria\n",
        "card['Motor'] = motor\n",
        "card['Descricao'] = descricao\n",
        "card['Localidade'] = localidade\n",
        "\n",
        "card"
      ],
      "execution_count": null,
      "outputs": [
        {
          "output_type": "execute_result",
          "data": {
            "text/plain": [
              "{'Categoria': 'USADO',\n",
              " 'Descricao': 'Ano 1993 - 55.286 km',\n",
              " 'Localidade': 'Belo Horizonte - MG',\n",
              " 'Motor': 'Motor 1.8 16v',\n",
              " 'Nome': 'LAMBORGHINI AVENTADOR',\n",
              " 'Valor': 'R$ 338.000'}"
            ]
          },
          "metadata": {
            "tags": []
          },
          "execution_count": 8
        }
      ]
    },
    {
      "cell_type": "code",
      "metadata": {
        "id": "5l9H0IGrS6hd",
        "colab": {
          "base_uri": "https://localhost:8080/",
          "height": 80
        },
        "outputId": "17349df4-f6a7-4aa4-b293-5e8a3f8a4295"
      },
      "source": [
        "import pandas as pd\n",
        "dic = {'valor': 1, 'vaivai':'estado', 'comoesta ': 234}\n",
        "df = pd.DataFrame.from_dict(card, orient='index').T\n",
        "df"
      ],
      "execution_count": null,
      "outputs": [
        {
          "output_type": "execute_result",
          "data": {
            "text/html": [
              "<div>\n",
              "<style scoped>\n",
              "    .dataframe tbody tr th:only-of-type {\n",
              "        vertical-align: middle;\n",
              "    }\n",
              "\n",
              "    .dataframe tbody tr th {\n",
              "        vertical-align: top;\n",
              "    }\n",
              "\n",
              "    .dataframe thead th {\n",
              "        text-align: right;\n",
              "    }\n",
              "</style>\n",
              "<table border=\"1\" class=\"dataframe\">\n",
              "  <thead>\n",
              "    <tr style=\"text-align: right;\">\n",
              "      <th></th>\n",
              "      <th>Valor</th>\n",
              "      <th>Nome</th>\n",
              "      <th>Categoria</th>\n",
              "      <th>Motor</th>\n",
              "      <th>Descricao</th>\n",
              "      <th>Localidade</th>\n",
              "    </tr>\n",
              "  </thead>\n",
              "  <tbody>\n",
              "    <tr>\n",
              "      <th>0</th>\n",
              "      <td>R$ 338.000</td>\n",
              "      <td>LAMBORGHINI AVENTADOR</td>\n",
              "      <td>USADO</td>\n",
              "      <td>Motor 1.8 16v</td>\n",
              "      <td>Ano 1993 - 55.286 km</td>\n",
              "      <td>Belo Horizonte - MG</td>\n",
              "    </tr>\n",
              "  </tbody>\n",
              "</table>\n",
              "</div>"
            ],
            "text/plain": [
              "        Valor                   Nome  ...             Descricao           Localidade\n",
              "0  R$ 338.000  LAMBORGHINI AVENTADOR  ...  Ano 1993 - 55.286 km  Belo Horizonte - MG\n",
              "\n",
              "[1 rows x 6 columns]"
            ]
          },
          "metadata": {
            "tags": []
          },
          "execution_count": 9
        }
      ]
    },
    {
      "cell_type": "code",
      "metadata": {
        "id": "ZAqgd9Z3WWKu"
      },
      "source": [
        "#importando img"
      ],
      "execution_count": null,
      "outputs": []
    },
    {
      "cell_type": "code",
      "metadata": {
        "id": "2zEqkJt1WYBe",
        "colab": {
          "base_uri": "https://localhost:8080/",
          "height": 54
        },
        "outputId": "70fa38fd-9025-4100-d927-47dbd5a547a0"
      },
      "source": [
        "image = carro.find('div',class_='image-card').img\n",
        "image"
      ],
      "execution_count": null,
      "outputs": [
        {
          "output_type": "execute_result",
          "data": {
            "text/plain": [
              "<img alt=\"Foto\" height=\"155\" src=\"https://caelum-online-public.s3.amazonaws.com/1381-scraping/01/img-cars/lamborghini-aventador/lamborghini-aventador-2932196__340.jpg\" width=\"220\"/>"
            ]
          },
          "metadata": {
            "tags": []
          },
          "execution_count": 11
        }
      ]
    },
    {
      "cell_type": "code",
      "metadata": {
        "id": "I74mFEKHYS_5",
        "colab": {
          "base_uri": "https://localhost:8080/",
          "height": 52
        },
        "outputId": "5e71e638-67d3-4d24-8d23-63cec86d9fed"
      },
      "source": [
        "image.get('src') #nome do link jpg "
      ],
      "execution_count": null,
      "outputs": [
        {
          "output_type": "execute_result",
          "data": {
            "application/vnd.google.colaboratory.intrinsic+json": {
              "type": "string"
            },
            "text/plain": [
              "'https://caelum-online-public.s3.amazonaws.com/1381-scraping/01/img-cars/lamborghini-aventador/lamborghini-aventador-2932196__340.jpg'"
            ]
          },
          "metadata": {
            "tags": []
          },
          "execution_count": 12
        }
      ]
    },
    {
      "cell_type": "code",
      "metadata": {
        "id": "fLCyws6NZDSd",
        "colab": {
          "base_uri": "https://localhost:8080/",
          "height": 35
        },
        "outputId": "582eb708-90f5-4e51-ea7d-41d2ab71c3e9"
      },
      "source": [
        "image.get('src').split('/')[-1] #só para demostrar um split deparando em / e o -1 para pegar o ultimo elemento"
      ],
      "execution_count": null,
      "outputs": [
        {
          "output_type": "execute_result",
          "data": {
            "application/vnd.google.colaboratory.intrinsic+json": {
              "type": "string"
            },
            "text/plain": [
              "'lamborghini-aventador-2932196__340.jpg'"
            ]
          },
          "metadata": {
            "tags": []
          },
          "execution_count": 13
        }
      ]
    },
    {
      "cell_type": "code",
      "metadata": {
        "id": "ZJ-LDtRIYdyH",
        "colab": {
          "base_uri": "https://localhost:8080/",
          "height": 51
        },
        "outputId": "b2f5bce7-28cc-42e3-dc8d-40cdcdd03fd7"
      },
      "source": [
        "#fazer donwload automatico da imagem \n",
        "from urllib.request import urlretrieve\n",
        "\n",
        "#urlretrieve(image.get('src'), '' + image.get('src').split('/')[-1] ) # as duas maneiras são iguais\n",
        "urlretrieve(image.get('src'), 'lamborghini-aventador-2932196__340.jpg')"
      ],
      "execution_count": null,
      "outputs": [
        {
          "output_type": "execute_result",
          "data": {
            "text/plain": [
              "('lamborghini-aventador-2932196__340.jpg',\n",
              " <http.client.HTTPMessage at 0x7fd6b56033c8>)"
            ]
          },
          "metadata": {
            "tags": []
          },
          "execution_count": 14
        }
      ]
    },
    {
      "cell_type": "code",
      "metadata": {
        "id": "RNDF1bZaWTld"
      },
      "source": [
        "#todos os cards\n",
        "soup.find('div', {'id':'container-cards'}) #aqui pegou todo o container"
      ],
      "execution_count": null,
      "outputs": []
    },
    {
      "cell_type": "code",
      "metadata": {
        "id": "JS2Cy_Qe0Txv"
      },
      "source": [
        "cards=[]"
      ],
      "execution_count": null,
      "outputs": []
    },
    {
      "cell_type": "code",
      "metadata": {
        "id": "GJbGtTySXplC",
        "colab": {
          "base_uri": "https://localhost:8080/",
          "height": 207
        },
        "outputId": "30d68af9-a094-4503-d2ce-e9905cec38f8"
      },
      "source": [
        "todos_cards = soup.find('div', {'id':'container-cards'}).find_all('div', class_='well')\n",
        "for todo_card in todos_cards:  #o for funciona pois ele usa como se fosse um find\n",
        "  card = {}\n",
        "  card['Valor'] = todo_card.find('p',class_='txt-value').get_text()\n",
        "  card['Nome']= todo_card.find('p', class_='txt-name').get_text()\n",
        "  card['Categoria'] = todo_card.find('p', class_='txt-category').get_text()\n",
        "  card['Motor'] = todo_card.find('p', class_='txt-motor').get_text()\n",
        "  card['Descricao'] = todo_card.find('p', class_='txt-description').get_text()\n",
        "  card['Localidade'] = todo_card.find('p', class_='txt-location').get_text()\n",
        "  cards.append(card)\n",
        "  print (card)"
      ],
      "execution_count": null,
      "outputs": [
        {
          "output_type": "stream",
          "text": [
            "{'Valor': 'R$ 338.000', 'Nome': 'LAMBORGHINI AVENTADOR', 'Categoria': 'USADO', 'Motor': 'Motor 1.8 16v', 'Descricao': 'Ano 1993 - 55.286 km', 'Localidade': 'Belo Horizonte - MG'}\n",
            "{'Valor': 'R$ 346.000', 'Nome': 'BMW M2', 'Categoria': 'USADO', 'Motor': 'Motor 3.0 32v', 'Descricao': 'Ano 2018 - 83.447 km', 'Localidade': 'Belo Horizonte - MG'}\n",
            "{'Valor': 'R$ 480.000', 'Nome': 'ALFA', 'Categoria': 'USADO', 'Motor': 'Motor 1.8 16v', 'Descricao': 'Ano 2004 - 19.722 km', 'Localidade': 'Rio de Janeiro - RJ'}\n",
            "{'Valor': 'R$ 133.000', 'Nome': 'PUECH', 'Categoria': 'USADO', 'Motor': 'Motor Diesel V8', 'Descricao': 'Ano 1992 - 34.335 km', 'Localidade': 'São Paulo - SP'}\n",
            "{'Valor': 'R$ 175.000', 'Nome': 'LAMBORGHINI MURCIELAGO', 'Categoria': 'USADO', 'Motor': 'Motor 1.0 8v', 'Descricao': 'Ano 1991 - 464 km', 'Localidade': 'Belo Horizonte - MG'}\n",
            "{'Valor': 'R$ 239.000', 'Nome': 'ASTON MARTIN', 'Categoria': 'USADO', 'Motor': 'Motor Diesel V6', 'Descricao': 'Ano 2004 - 50.189 km', 'Localidade': 'Belo Horizonte - MG'}\n",
            "{'Valor': 'R$ 115.000', 'Nome': 'TVR', 'Categoria': 'USADO', 'Motor': 'Motor 4.0 Turbo', 'Descricao': 'Ano 2014 - 17.778 km', 'Localidade': 'Belo Horizonte - MG'}\n",
            "{'Valor': 'R$ 114.000', 'Nome': 'EXCALIBUR', 'Categoria': 'USADO', 'Motor': 'Motor 3.0 32v', 'Descricao': 'Ano 2009 - 81.251 km', 'Localidade': 'Rio de Janeiro - RJ'}\n",
            "{'Valor': 'R$ 75.000', 'Nome': 'MCLAREN', 'Categoria': 'NOVO', 'Motor': 'Motor Diesel', 'Descricao': 'Ano 2019 - 0 km', 'Localidade': 'São Paulo - SP'}\n",
            "{'Valor': 'R$ 117.000', 'Nome': 'TOYOTA', 'Categoria': 'USADO', 'Motor': 'Motor 4.0 Turbo', 'Descricao': 'Ano 1999 - 12.536 km', 'Localidade': 'São Paulo - SP'}\n"
          ],
          "name": "stdout"
        }
      ]
    },
    {
      "cell_type": "code",
      "metadata": {
        "id": "9SUuHAGhcwE_",
        "colab": {
          "base_uri": "https://localhost:8080/",
          "height": 359
        },
        "outputId": "18cb1103-f944-4038-dfb2-d229161dfcb2"
      },
      "source": [
        "cards #lista de dicionario\n",
        "import pandas as pd\n",
        "df = pd.DataFrame(cards)\n",
        "df"
      ],
      "execution_count": null,
      "outputs": [
        {
          "output_type": "execute_result",
          "data": {
            "text/html": [
              "<div>\n",
              "<style scoped>\n",
              "    .dataframe tbody tr th:only-of-type {\n",
              "        vertical-align: middle;\n",
              "    }\n",
              "\n",
              "    .dataframe tbody tr th {\n",
              "        vertical-align: top;\n",
              "    }\n",
              "\n",
              "    .dataframe thead th {\n",
              "        text-align: right;\n",
              "    }\n",
              "</style>\n",
              "<table border=\"1\" class=\"dataframe\">\n",
              "  <thead>\n",
              "    <tr style=\"text-align: right;\">\n",
              "      <th></th>\n",
              "      <th>Valor</th>\n",
              "      <th>Nome</th>\n",
              "      <th>Categoria</th>\n",
              "      <th>Motor</th>\n",
              "      <th>Descricao</th>\n",
              "      <th>Localidade</th>\n",
              "    </tr>\n",
              "  </thead>\n",
              "  <tbody>\n",
              "    <tr>\n",
              "      <th>0</th>\n",
              "      <td>R$ 338.000</td>\n",
              "      <td>LAMBORGHINI AVENTADOR</td>\n",
              "      <td>USADO</td>\n",
              "      <td>Motor 1.8 16v</td>\n",
              "      <td>Ano 1993 - 55.286 km</td>\n",
              "      <td>Belo Horizonte - MG</td>\n",
              "    </tr>\n",
              "    <tr>\n",
              "      <th>1</th>\n",
              "      <td>R$ 346.000</td>\n",
              "      <td>BMW M2</td>\n",
              "      <td>USADO</td>\n",
              "      <td>Motor 3.0 32v</td>\n",
              "      <td>Ano 2018 - 83.447 km</td>\n",
              "      <td>Belo Horizonte - MG</td>\n",
              "    </tr>\n",
              "    <tr>\n",
              "      <th>2</th>\n",
              "      <td>R$ 480.000</td>\n",
              "      <td>ALFA</td>\n",
              "      <td>USADO</td>\n",
              "      <td>Motor 1.8 16v</td>\n",
              "      <td>Ano 2004 - 19.722 km</td>\n",
              "      <td>Rio de Janeiro - RJ</td>\n",
              "    </tr>\n",
              "    <tr>\n",
              "      <th>3</th>\n",
              "      <td>R$ 133.000</td>\n",
              "      <td>PUECH</td>\n",
              "      <td>USADO</td>\n",
              "      <td>Motor Diesel V8</td>\n",
              "      <td>Ano 1992 - 34.335 km</td>\n",
              "      <td>São Paulo - SP</td>\n",
              "    </tr>\n",
              "    <tr>\n",
              "      <th>4</th>\n",
              "      <td>R$ 175.000</td>\n",
              "      <td>LAMBORGHINI MURCIELAGO</td>\n",
              "      <td>USADO</td>\n",
              "      <td>Motor 1.0 8v</td>\n",
              "      <td>Ano 1991 - 464 km</td>\n",
              "      <td>Belo Horizonte - MG</td>\n",
              "    </tr>\n",
              "    <tr>\n",
              "      <th>5</th>\n",
              "      <td>R$ 239.000</td>\n",
              "      <td>ASTON MARTIN</td>\n",
              "      <td>USADO</td>\n",
              "      <td>Motor Diesel V6</td>\n",
              "      <td>Ano 2004 - 50.189 km</td>\n",
              "      <td>Belo Horizonte - MG</td>\n",
              "    </tr>\n",
              "    <tr>\n",
              "      <th>6</th>\n",
              "      <td>R$ 115.000</td>\n",
              "      <td>TVR</td>\n",
              "      <td>USADO</td>\n",
              "      <td>Motor 4.0 Turbo</td>\n",
              "      <td>Ano 2014 - 17.778 km</td>\n",
              "      <td>Belo Horizonte - MG</td>\n",
              "    </tr>\n",
              "    <tr>\n",
              "      <th>7</th>\n",
              "      <td>R$ 114.000</td>\n",
              "      <td>EXCALIBUR</td>\n",
              "      <td>USADO</td>\n",
              "      <td>Motor 3.0 32v</td>\n",
              "      <td>Ano 2009 - 81.251 km</td>\n",
              "      <td>Rio de Janeiro - RJ</td>\n",
              "    </tr>\n",
              "    <tr>\n",
              "      <th>8</th>\n",
              "      <td>R$ 75.000</td>\n",
              "      <td>MCLAREN</td>\n",
              "      <td>NOVO</td>\n",
              "      <td>Motor Diesel</td>\n",
              "      <td>Ano 2019 - 0 km</td>\n",
              "      <td>São Paulo - SP</td>\n",
              "    </tr>\n",
              "    <tr>\n",
              "      <th>9</th>\n",
              "      <td>R$ 117.000</td>\n",
              "      <td>TOYOTA</td>\n",
              "      <td>USADO</td>\n",
              "      <td>Motor 4.0 Turbo</td>\n",
              "      <td>Ano 1999 - 12.536 km</td>\n",
              "      <td>São Paulo - SP</td>\n",
              "    </tr>\n",
              "  </tbody>\n",
              "</table>\n",
              "</div>"
            ],
            "text/plain": [
              "        Valor  ...           Localidade\n",
              "0  R$ 338.000  ...  Belo Horizonte - MG\n",
              "1  R$ 346.000  ...  Belo Horizonte - MG\n",
              "2  R$ 480.000  ...  Rio de Janeiro - RJ\n",
              "3  R$ 133.000  ...       São Paulo - SP\n",
              "4  R$ 175.000  ...  Belo Horizonte - MG\n",
              "5  R$ 239.000  ...  Belo Horizonte - MG\n",
              "6  R$ 115.000  ...  Belo Horizonte - MG\n",
              "7  R$ 114.000  ...  Rio de Janeiro - RJ\n",
              "8   R$ 75.000  ...       São Paulo - SP\n",
              "9  R$ 117.000  ...       São Paulo - SP\n",
              "\n",
              "[10 rows x 6 columns]"
            ]
          },
          "metadata": {
            "tags": []
          },
          "execution_count": 18
        }
      ]
    },
    {
      "cell_type": "code",
      "metadata": {
        "id": "4oY-hEAj1-c2"
      },
      "source": [
        "#VARIAS PAGINAS"
      ],
      "execution_count": null,
      "outputs": []
    },
    {
      "cell_type": "code",
      "metadata": {
        "id": "tjnJJXoz2AXb",
        "colab": {
          "base_uri": "https://localhost:8080/",
          "height": 35
        },
        "outputId": "f0800b64-6f36-448f-9ae8-44e9cee2b1d3"
      },
      "source": [
        "soup.find('span', class_='info-pages').get_text() "
      ],
      "execution_count": null,
      "outputs": [
        {
          "output_type": "execute_result",
          "data": {
            "application/vnd.google.colaboratory.intrinsic+json": {
              "type": "string"
            },
            "text/plain": [
              "'Página 1 de 25'"
            ]
          },
          "metadata": {
            "tags": []
          },
          "execution_count": 20
        }
      ]
    },
    {
      "cell_type": "code",
      "metadata": {
        "id": "71aveCAA2f9D",
        "colab": {
          "base_uri": "https://localhost:8080/",
          "height": 34
        },
        "outputId": "f08fb16c-0777-4319-e8e5-2fdaec221bee"
      },
      "source": [
        "soup.find('span', class_='info-pages').get_text().split()"
      ],
      "execution_count": null,
      "outputs": [
        {
          "output_type": "execute_result",
          "data": {
            "text/plain": [
              "['Página', '1', 'de', '25']"
            ]
          },
          "metadata": {
            "tags": []
          },
          "execution_count": 21
        }
      ]
    },
    {
      "cell_type": "code",
      "metadata": {
        "id": "FpUi49mv2ljX",
        "colab": {
          "base_uri": "https://localhost:8080/",
          "height": 35
        },
        "outputId": "58a86a0e-41ff-477c-8cb9-1dd583ac3390"
      },
      "source": [
        "soup.find('span', class_='info-pages').get_text().split()[-1] #ou [3]"
      ],
      "execution_count": null,
      "outputs": [
        {
          "output_type": "execute_result",
          "data": {
            "application/vnd.google.colaboratory.intrinsic+json": {
              "type": "string"
            },
            "text/plain": [
              "'25'"
            ]
          },
          "metadata": {
            "tags": []
          },
          "execution_count": 22
        }
      ]
    },
    {
      "cell_type": "code",
      "metadata": {
        "id": "R5-U9fIq3nGP",
        "colab": {
          "base_uri": "https://localhost:8080/",
          "height": 34
        },
        "outputId": "30405ed5-71ff-4b15-ab03-7015836c65f6"
      },
      "source": [
        "int(soup.find('span', class_='info-pages').get_text().split()[-1]) #passou para int"
      ],
      "execution_count": null,
      "outputs": [
        {
          "output_type": "execute_result",
          "data": {
            "text/plain": [
              "25"
            ]
          },
          "metadata": {
            "tags": []
          },
          "execution_count": 23
        }
      ]
    },
    {
      "cell_type": "code",
      "metadata": {
        "id": "MLB2wVc24hdH",
        "colab": {
          "base_uri": "https://localhost:8080/",
          "height": 129
        },
        "outputId": "7424432b-6e08-46fe-ecef-09a4c23eaf68"
      },
      "source": [
        "#tem que fazer pagina por pagina para isso usaremos um for \n",
        "\n",
        "#html_doc = requests.get('https://alura-site-scraping.herokuapp.com/index.php?page=2')\n",
        "#soup = BeautifulSoup(html_doc.text, 'html.parser')\n",
        "\n",
        "https://alura-site-scraping.herokuapp.com/index.php?page=2"
      ],
      "execution_count": null,
      "outputs": [
        {
          "output_type": "error",
          "ename": "SyntaxError",
          "evalue": "ignored",
          "traceback": [
            "\u001b[0;36m  File \u001b[0;32m\"<ipython-input-24-a35826401518>\"\u001b[0;36m, line \u001b[0;32m6\u001b[0m\n\u001b[0;31m    https://alura-site-scraping.herokuapp.com/index.php?page=2\u001b[0m\n\u001b[0m           ^\u001b[0m\n\u001b[0;31mSyntaxError\u001b[0m\u001b[0;31m:\u001b[0m invalid syntax\n"
          ]
        }
      ]
    },
    {
      "cell_type": "code",
      "metadata": {
        "id": "QN6f6cy23siL"
      },
      "source": [
        "#pegamos o for de 1 card e colocou dentro de outro for\n",
        "\n",
        "cards = []\n",
        "pages = int(soup.find('span', class_='info-pages').get_text().split()[-1])\n",
        "for i in range(pages):\n",
        "  html_doc = requests.get(f'https://alura-site-scraping.herokuapp.com/index.php?page={i+1}')\n",
        "  soup = BeautifulSoup(html_doc.text, 'html.parser')\n",
        "  #print ((f'https://alura-site-scraping.herokuapp.com/index.php?page={i+1}'))\n",
        "\n",
        "  todos_cards = soup.find('div', {'id':'container-cards'}).find_all('div', class_='well')\n",
        "  for todo_card in todos_cards:  #o for funciona pois ele usa como se fosse um find\n",
        "    card = {}\n",
        "    card['Valor'] = todo_card.find('p',class_='txt-value').get_text()\n",
        "    card['Nome']= todo_card.find('p', class_='txt-name').get_text()\n",
        "    card['Categoria'] = todo_card.find('p', class_='txt-category').get_text()\n",
        "    card['Motor'] = todo_card.find('p', class_='txt-motor').get_text()\n",
        "    card['Descricao'] = todo_card.find('p', class_='txt-description').get_text()\n",
        "    card['Localidade'] = todo_card.find('p', class_='txt-location').get_text()\n",
        "    cards.append(card)\n",
        "    \n",
        "\n"
      ],
      "execution_count": null,
      "outputs": []
    },
    {
      "cell_type": "code",
      "metadata": {
        "id": "aW6VjXPf8eJg",
        "colab": {
          "base_uri": "https://localhost:8080/",
          "height": 204
        },
        "outputId": "9f3f2793-5b09-4f7d-c9dc-ead9b2c104a4"
      },
      "source": [
        "import pandas as pd\n",
        "df = pd.DataFrame(cards)\n",
        "df.head()"
      ],
      "execution_count": null,
      "outputs": [
        {
          "output_type": "execute_result",
          "data": {
            "text/html": [
              "<div>\n",
              "<style scoped>\n",
              "    .dataframe tbody tr th:only-of-type {\n",
              "        vertical-align: middle;\n",
              "    }\n",
              "\n",
              "    .dataframe tbody tr th {\n",
              "        vertical-align: top;\n",
              "    }\n",
              "\n",
              "    .dataframe thead th {\n",
              "        text-align: right;\n",
              "    }\n",
              "</style>\n",
              "<table border=\"1\" class=\"dataframe\">\n",
              "  <thead>\n",
              "    <tr style=\"text-align: right;\">\n",
              "      <th></th>\n",
              "      <th>Valor</th>\n",
              "      <th>Nome</th>\n",
              "      <th>Categoria</th>\n",
              "      <th>Motor</th>\n",
              "      <th>Descricao</th>\n",
              "      <th>Localidade</th>\n",
              "    </tr>\n",
              "  </thead>\n",
              "  <tbody>\n",
              "    <tr>\n",
              "      <th>0</th>\n",
              "      <td>R$ 338.000</td>\n",
              "      <td>LAMBORGHINI AVENTADOR</td>\n",
              "      <td>USADO</td>\n",
              "      <td>Motor 1.8 16v</td>\n",
              "      <td>Ano 1993 - 55.286 km</td>\n",
              "      <td>Belo Horizonte - MG</td>\n",
              "    </tr>\n",
              "    <tr>\n",
              "      <th>1</th>\n",
              "      <td>R$ 346.000</td>\n",
              "      <td>BMW M2</td>\n",
              "      <td>USADO</td>\n",
              "      <td>Motor 3.0 32v</td>\n",
              "      <td>Ano 2018 - 83.447 km</td>\n",
              "      <td>Belo Horizonte - MG</td>\n",
              "    </tr>\n",
              "    <tr>\n",
              "      <th>2</th>\n",
              "      <td>R$ 480.000</td>\n",
              "      <td>ALFA</td>\n",
              "      <td>USADO</td>\n",
              "      <td>Motor 1.8 16v</td>\n",
              "      <td>Ano 2004 - 19.722 km</td>\n",
              "      <td>Rio de Janeiro - RJ</td>\n",
              "    </tr>\n",
              "    <tr>\n",
              "      <th>3</th>\n",
              "      <td>R$ 133.000</td>\n",
              "      <td>PUECH</td>\n",
              "      <td>USADO</td>\n",
              "      <td>Motor Diesel V8</td>\n",
              "      <td>Ano 1992 - 34.335 km</td>\n",
              "      <td>São Paulo - SP</td>\n",
              "    </tr>\n",
              "    <tr>\n",
              "      <th>4</th>\n",
              "      <td>R$ 175.000</td>\n",
              "      <td>LAMBORGHINI MURCIELAGO</td>\n",
              "      <td>USADO</td>\n",
              "      <td>Motor 1.0 8v</td>\n",
              "      <td>Ano 1991 - 464 km</td>\n",
              "      <td>Belo Horizonte - MG</td>\n",
              "    </tr>\n",
              "  </tbody>\n",
              "</table>\n",
              "</div>"
            ],
            "text/plain": [
              "        Valor  ...           Localidade\n",
              "0  R$ 338.000  ...  Belo Horizonte - MG\n",
              "1  R$ 346.000  ...  Belo Horizonte - MG\n",
              "2  R$ 480.000  ...  Rio de Janeiro - RJ\n",
              "3  R$ 133.000  ...       São Paulo - SP\n",
              "4  R$ 175.000  ...  Belo Horizonte - MG\n",
              "\n",
              "[5 rows x 6 columns]"
            ]
          },
          "metadata": {
            "tags": []
          },
          "execution_count": 26
        }
      ]
    },
    {
      "cell_type": "markdown",
      "metadata": {
        "id": "Th79lONMopw0"
      },
      "source": [
        "# **Coleta catho cientista de dados**\n",
        "# Coletando dados [link text](https://www.catho.com.br/vagas/cientista-de-dados/?q=Cientista%20de%20Dados)\n",
        "\n",
        "nome da vaga\n",
        "\n",
        "descricao \n",
        "\n",
        "localidade"
      ]
    },
    {
      "cell_type": "code",
      "metadata": {
        "id": "HXps7c9hpXWB"
      },
      "source": [
        "#importando Bibliotecas\n",
        "import pandas as pd\n",
        "from bs4 import BeautifulSoup\n",
        "import requests\n",
        "html = requests.get('https://www.catho.com.br/vagas/cientista-de-dados/?q=Cientista%20de%20Dados')\n",
        "soup = BeautifulSoup(html.text, 'html.parser')\n",
        "#print(soup.prettify())\n",
        "\n"
      ],
      "execution_count": null,
      "outputs": []
    },
    {
      "cell_type": "code",
      "metadata": {
        "id": "mqorJgcvqDNa"
      },
      "source": [
        "#1 pagina\n",
        "\n",
        "nome_vagas = soup.find_all('h2', class_='Title__Heading-sc-14fvmc0-0 fGTSAd sc-hzDkRC hptbnR')\n",
        "locais = soup.find_all('button', class_='sc-gisBJw lgWQPJ')\n",
        "#descricoes = soup.find_all('div', class_='sc-jhAzac exoAGx')\n",
        "\n",
        "descricoes= soup.find_all('span', class_='job-description')\n",
        "\n",
        "\n"
      ],
      "execution_count": null,
      "outputs": []
    },
    {
      "cell_type": "code",
      "metadata": {
        "id": "IBxG3kl1DAru"
      },
      "source": [
        "lista = []\n",
        "for vaga, local , descricao in zip(nome_vagas, locais, descricoes):\n",
        "  dic = {}\n",
        "  dic['Vagas'] = vaga.find('a').get_text()\n",
        "  dic['Locais'] = local.find('a').get_text()\n",
        "  #dic['Descricao'] = descricao.find('span').get_text()\n",
        "  dic['Descricao'] = descricao.get_text()\n",
        "  \n",
        "  lista.append(dic)"
      ],
      "execution_count": null,
      "outputs": []
    },
    {
      "cell_type": "code",
      "metadata": {
        "id": "ip-Mj9zSEVqb"
      },
      "source": [
        "df_catho = pd.DataFrame(lista)\n"
      ],
      "execution_count": null,
      "outputs": []
    },
    {
      "cell_type": "code",
      "metadata": {
        "id": "5SgAknbfN2ks"
      },
      "source": [
        "#Diversas Paginas\n",
        "lista_catho = []\n",
        "for i in range(10):\n",
        "  html = requests.get(f'https://www.catho.com.br/vagas/cientista-de-dados/?q=Cientista%20de%20Dados&page={i+1}')\n",
        "  soup = BeautifulSoup(html.text, 'html.parser')\n",
        "  #print (f'https://www.catho.com.br/vagas/cientista-de-dados/?q=Cientista%20de%20Dados&page=2')\n",
        "  nome_vagas = soup.find_all('h2', class_='Title__Heading-sc-14fvmc0-0 fGTSAd sc-hzDkRC hptbnR')\n",
        "  locais = soup.find_all('button', class_='sc-gisBJw lgWQPJ')\n",
        "  descricoes= soup.find_all('span', class_='job-description')\n",
        "  \n",
        "  for vaga, local , descricao in zip(nome_vagas, locais, descricoes):\n",
        "    dic = {}\n",
        "    dic['Vagas'] = vaga.find('a').get_text()\n",
        "    dic['Locais'] = local.find('a').get_text()\n",
        "    dic['Descricao'] = descricao.get_text()\n",
        "\n",
        "    lista_catho.append(dic)\n"
      ],
      "execution_count": null,
      "outputs": []
    },
    {
      "cell_type": "code",
      "metadata": {
        "id": "Vl2pMGnfQ4Pz",
        "colab": {
          "base_uri": "https://localhost:8080/",
          "height": 419
        },
        "outputId": "773f5f24-5c03-4c7c-f4c3-69fb9da60f5b"
      },
      "source": [
        "import pandas as pd\n",
        "\n",
        "df_catho = pd.DataFrame(lista_catho)\n",
        "\n",
        "df_catho"
      ],
      "execution_count": null,
      "outputs": [
        {
          "output_type": "execute_result",
          "data": {
            "text/html": [
              "<div>\n",
              "<style scoped>\n",
              "    .dataframe tbody tr th:only-of-type {\n",
              "        vertical-align: middle;\n",
              "    }\n",
              "\n",
              "    .dataframe tbody tr th {\n",
              "        vertical-align: top;\n",
              "    }\n",
              "\n",
              "    .dataframe thead th {\n",
              "        text-align: right;\n",
              "    }\n",
              "</style>\n",
              "<table border=\"1\" class=\"dataframe\">\n",
              "  <thead>\n",
              "    <tr style=\"text-align: right;\">\n",
              "      <th></th>\n",
              "      <th>Vagas</th>\n",
              "      <th>Locais</th>\n",
              "      <th>Descricao</th>\n",
              "    </tr>\n",
              "  </thead>\n",
              "  <tbody>\n",
              "    <tr>\n",
              "      <th>0</th>\n",
              "      <td>Cientista de Dados ( Estatístico )</td>\n",
              "      <td>São Paulo - SP (1)</td>\n",
              "      <td>Atuar em equipe de Soluções para Negócios For...</td>\n",
              "    </tr>\n",
              "    <tr>\n",
              "      <th>1</th>\n",
              "      <td>Cientista de Dados Sênior</td>\n",
              "      <td>São Paulo - SP (1)</td>\n",
              "      <td>Desenvolvimento de Abstração do negócio, ETL,...</td>\n",
              "    </tr>\n",
              "    <tr>\n",
              "      <th>2</th>\n",
              "      <td>Cientista de Dados</td>\n",
              "      <td>Vitoria - ES (1)</td>\n",
              "      <td>Análise Preditiva e Descritiva de Big Data pa...</td>\n",
              "    </tr>\n",
              "    <tr>\n",
              "      <th>3</th>\n",
              "      <td>Cientista de Dados</td>\n",
              "      <td>Curitiba - PR (1)</td>\n",
              "      <td>Utilizar a inteligência de dados, Big Data e ...</td>\n",
              "    </tr>\n",
              "    <tr>\n",
              "      <th>4</th>\n",
              "      <td>Cientista de Dados</td>\n",
              "      <td>Brasilia - DF (1)</td>\n",
              "      <td>Linguagens de programação de análise de dados...</td>\n",
              "    </tr>\n",
              "    <tr>\n",
              "      <th>...</th>\n",
              "      <td>...</td>\n",
              "      <td>...</td>\n",
              "      <td>...</td>\n",
              "    </tr>\n",
              "    <tr>\n",
              "      <th>95</th>\n",
              "      <td>Analista de Business Intelligence</td>\n",
              "      <td>São Paulo - SP (2)</td>\n",
              "      <td>Atuar com desenvolvimento de modelagem de ban...</td>\n",
              "    </tr>\n",
              "    <tr>\n",
              "      <th>96</th>\n",
              "      <td>Analista de Business Intelligence</td>\n",
              "      <td>Curitiba - PR (1)</td>\n",
              "      <td>Análise e Modelagem de Soluções de Business I...</td>\n",
              "    </tr>\n",
              "    <tr>\n",
              "      <th>97</th>\n",
              "      <td>Analista de Business Intelligence</td>\n",
              "      <td>São Paulo - SP (1)</td>\n",
              "      <td>Construir fluxos de ETL/ELT para carga de dad...</td>\n",
              "    </tr>\n",
              "    <tr>\n",
              "      <th>98</th>\n",
              "      <td>Analista de Business Intelligence</td>\n",
              "      <td>Barueri - SP (1)</td>\n",
              "      <td>A JUSTA Pagamentos é uma startup criada em ma...</td>\n",
              "    </tr>\n",
              "    <tr>\n",
              "      <th>99</th>\n",
              "      <td>Estatístico</td>\n",
              "      <td>Itapevi - SP (1)</td>\n",
              "      <td>Desenvolvimento e implantação de coleta de da...</td>\n",
              "    </tr>\n",
              "  </tbody>\n",
              "</table>\n",
              "<p>100 rows × 3 columns</p>\n",
              "</div>"
            ],
            "text/plain": [
              "                                 Vagas  ...                                          Descricao\n",
              "0   Cientista de Dados ( Estatístico )  ...   Atuar em equipe de Soluções para Negócios For...\n",
              "1            Cientista de Dados Sênior  ...   Desenvolvimento de Abstração do negócio, ETL,...\n",
              "2                   Cientista de Dados  ...   Análise Preditiva e Descritiva de Big Data pa...\n",
              "3                   Cientista de Dados  ...   Utilizar a inteligência de dados, Big Data e ...\n",
              "4                   Cientista de Dados  ...   Linguagens de programação de análise de dados...\n",
              "..                                 ...  ...                                                ...\n",
              "95   Analista de Business Intelligence  ...   Atuar com desenvolvimento de modelagem de ban...\n",
              "96   Analista de Business Intelligence  ...   Análise e Modelagem de Soluções de Business I...\n",
              "97   Analista de Business Intelligence  ...   Construir fluxos de ETL/ELT para carga de dad...\n",
              "98   Analista de Business Intelligence  ...   A JUSTA Pagamentos é uma startup criada em ma...\n",
              "99                         Estatístico  ...   Desenvolvimento e implantação de coleta de da...\n",
              "\n",
              "[100 rows x 3 columns]"
            ]
          },
          "metadata": {
            "tags": []
          },
          "execution_count": 43
        }
      ]
    }
  ]
}